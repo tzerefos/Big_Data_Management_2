{
 "cells": [
  {
   "cell_type": "code",
   "execution_count": 1,
   "id": "59b84808",
   "metadata": {},
   "outputs": [],
   "source": [
    "import pandas as pd\n",
    "from matplotlib import pyplot as plt\n",
    "import pymongo\n",
    "from pymongo import MongoClient\n",
    "import sys\n",
    "import json\n",
    "import math"
   ]
  },
  {
   "cell_type": "code",
   "execution_count": 2,
   "id": "6cd896f8",
   "metadata": {},
   "outputs": [],
   "source": [
    "df = pd.read_csv(\"../data/input/netflix_titles.csv\")"
   ]
  },
  {
   "cell_type": "code",
   "execution_count": 3,
   "id": "33e61b3c",
   "metadata": {},
   "outputs": [],
   "source": [
    "# display(df.head())\n",
    "# display(df.describe())\n",
    "months = ['january', 'february', 'march', 'april', 'may', 'june', 'july', 'august', 'september', 'october', 'november', 'december']"
   ]
  },
  {
   "cell_type": "code",
   "execution_count": 4,
   "id": "e9837f2f",
   "metadata": {},
   "outputs": [],
   "source": [
    "# DROP DUPLICATES WHICH SPAN IN ALL COLUMNS\n",
    "df_duplicated = df[df.duplicated()]\n",
    "df = df.drop_duplicates()\n",
    "# display(df_duplicated)"
   ]
  },
  {
   "cell_type": "code",
   "execution_count": 5,
   "id": "76e03db1",
   "metadata": {},
   "outputs": [],
   "source": [
    "df = pd.read_csv(\"../data/input/netflix_titles.csv\")\n",
    "for index, row in df.iterrows():\n",
    "    \n",
    "    if not isinstance(row['date_added'], float) and row['date_added'] != '': # CAPTURE NANs\n",
    "        if not isinstance(row['cast'], float) and \"Tremaine Brown,  Jr.\" in row[\"cast\"]:\n",
    "            df.at[index,'cast'] = row['cast'].replace(\"Tremaine Brown,  Jr.\", \"Tremaine Brown Jr.\")\n",
    "        month_day = row['date_added'].lstrip().split(\", \") # REMOVE LEADING WHITESPACE\n",
    "        year = month_day[1]\n",
    "        month = month_day[0].split(\" \")[0]\n",
    "        day = month_day[0].split(\" \")[1]\n",
    "        new_date = str(day)+\"-\"+str(months.index(month.lower()))+\"-\"+str(year)\n",
    "        df.at[index,'date_added'] = new_date\n",
    "            \n",
    "        \n",
    "df['date_added'] = pd.to_datetime(df['date_added'], format='%d-%m-%Y', errors='ignore')"
   ]
  },
  {
   "cell_type": "code",
   "execution_count": 8,
   "id": "9faca0db",
   "metadata": {},
   "outputs": [],
   "source": [
    "df.to_json(\"../data/output/netflix_titles.json\", orient = \"records\", date_format = \"epoch\", double_precision = 10, force_ascii = True, date_unit = \"ms\", default_handler = None)"
   ]
  },
  {
   "cell_type": "code",
   "execution_count": 363,
   "id": "f26818cf",
   "metadata": {},
   "outputs": [
    {
     "data": {
      "text/plain": [
       "<pymongo.results.InsertManyResult at 0x7f12a124e600>"
      ]
     },
     "execution_count": 363,
     "metadata": {},
     "output_type": "execute_result"
    }
   ],
   "source": [
    "client = MongoClient('localhost', 27017)\n",
    "db = client['netflix_titles']\n",
    "collection_movies = db['movies']\n",
    "with open('../data/output/netflix_titles.json') as f:\n",
    "    file_data = json.load(f)\n",
    "\n",
    "# collection_movies.delete_many({}) # EMPTY MONGODB\n",
    "# collection_movies.insert_many(file_data) # INSERT JSON DATA\n"
   ]
  },
  {
   "cell_type": "code",
   "execution_count": 351,
   "id": "4037a3c5",
   "metadata": {},
   "outputs": [],
   "source": [
    "# df['cast']\n",
    "# df.dropna()\n",
    "# for index, row in df.iterrows():\n",
    "    \n",
    "#     if not isinstance(row['cast'], float) and \"Jr.\" in row['cast'] and \"TV Dramas\" in row['listed_in']:\n",
    "#         print(row['cast'])\n",
    "#         print(row['listed_in'])\n",
    "#         print()\n",
    "# first_task_documents = collection_movies.find({\"release_year\":\"2016\"})"
   ]
  },
  {
   "cell_type": "code",
   "execution_count": 332,
   "id": "cc84707f",
   "metadata": {},
   "outputs": [],
   "source": [
    "# cursor = collection_movies.find({\"release_year\":2016})\n",
    "# for document in cursor: \n",
    "#     if \"director\" in document:\n",
    "#         print(document['director'])\n",
    "    "
   ]
  }
 ],
 "metadata": {
  "kernelspec": {
   "display_name": "bdm2venv",
   "language": "python",
   "name": "bdm2venv"
  },
  "language_info": {
   "codemirror_mode": {
    "name": "ipython",
    "version": 3
   },
   "file_extension": ".py",
   "mimetype": "text/x-python",
   "name": "python",
   "nbconvert_exporter": "python",
   "pygments_lexer": "ipython3",
   "version": "3.8.5"
  }
 },
 "nbformat": 4,
 "nbformat_minor": 5
}
